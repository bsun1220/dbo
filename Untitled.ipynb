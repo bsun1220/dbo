{
 "cells": [
  {
   "cell_type": "code",
   "execution_count": 2,
   "id": "b5c9bc1a-3834-4fa9-8866-a04c46ccbd96",
   "metadata": {},
   "outputs": [],
   "source": [
    "import mcmc"
   ]
  },
  {
   "cell_type": "code",
   "execution_count": 3,
   "id": "23304824-0df1-4f39-b4f1-df85b5b2f747",
   "metadata": {},
   "outputs": [
    {
     "data": {
      "text/plain": [
       "'/Users/bennysun/opt/anaconda3/lib/python3.9/site-packages/mcmc.cpython-39-darwin.so'"
      ]
     },
     "execution_count": 3,
     "metadata": {},
     "output_type": "execute_result"
    }
   ],
   "source": [
    "mcmc.__file__"
   ]
  },
  {
   "cell_type": "code",
   "execution_count": null,
   "id": "67d03b58-c89c-4de5-b4b4-fc3f7747295a",
   "metadata": {},
   "outputs": [],
   "source": []
  }
 ],
 "metadata": {
  "kernelspec": {
   "display_name": "Python 3 (ipykernel)",
   "language": "python",
   "name": "python3"
  },
  "language_info": {
   "codemirror_mode": {
    "name": "ipython",
    "version": 3
   },
   "file_extension": ".py",
   "mimetype": "text/x-python",
   "name": "python",
   "nbconvert_exporter": "python",
   "pygments_lexer": "ipython3",
   "version": "3.9.7"
  }
 },
 "nbformat": 4,
 "nbformat_minor": 5
}
